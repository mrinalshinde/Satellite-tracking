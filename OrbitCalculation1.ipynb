{
 "cells": [
  {
   "cell_type": "markdown",
   "metadata": {},
   "source": [
    "#Import classes"
   ]
  },
  {
   "cell_type": "code",
   "execution_count": 27,
   "metadata": {},
   "outputs": [
    {
     "name": "stdout",
     "output_type": "stream",
     "text": [
      "Populating the interactive namespace from numpy and matplotlib\n"
     ]
    }
   ],
   "source": [
    "%pylab inline\n",
    "import ephem\n",
    "import cartopy\n",
    "import cartopy.crs as ccrs\n",
    "import IPython.display as HTML"
   ]
  },
  {
   "cell_type": "markdown",
   "metadata": {},
   "source": [
    "##Create times"
   ]
  },
  {
   "cell_type": "code",
   "execution_count": 28,
   "metadata": {},
   "outputs": [],
   "source": [
    "starttime=ephem.Date((2018,20,12,0,0,0))\n",
    "endtime=ephem.Date((2018,24,12,23,59,59))"
   ]
  },
  {
   "cell_type": "markdown",
   "metadata": {},
   "source": [
    "##Find the TLE elements of the satellite"
   ]
  },
  {
   "cell_type": "code",
   "execution_count": 38,
   "metadata": {},
   "outputs": [],
   "source": [
    "line1=\"BEIDOU 3M16\"\n",
    "line2=\"1 43648U 18078B   18306.65202270 -.00000096  00000-0  10000-3 0  9991\"\n",
    "line3=\"2 43648  54.9922  36.0227 0116541 177.8728   0.5734  1.82894420   340\"\n",
    "TLEdata=ephem.readtle(line1,line2,line3)\n",
    "\n",
    "def longlatfunc():\n",
    "    TLElatitude = []\n",
    "    TLElongitude = []\n",
    "    TLEtime = []\n",
    "    starttime=ephem.Date((2018,20,12,0,0,0))\n",
    "    for x in range(1,5760): \n",
    "        starttime=starttime+(ephem.minute)\n",
    "        TLEdata.compute(starttime)\n",
    "        TLElatitude.append(TLEdata.sublat*180/pi)\n",
    "        TLElongitude.append(TLEdata.sublong*180/pi)\n",
    "        TLEtime.append(x)\n",
    "    \n",
    "    \n",
    "\n"
   ]
  },
  {
   "cell_type": "code",
   "execution_count": null,
   "metadata": {},
   "outputs": [],
   "source": [
    "ax=plt.axes(projection=ccrs.PlateCarree())\n",
    "ax.coastlines()\n",
    "ax.add_feature(cartopy.feature.LAND)\n",
    "ax.add_feature(cartopy.feature.BORDERS)\n",
    "ax.add_feature(cartopy.feature.STATES)\n",
    "plt.plot([TLElongitude, TLElatitude],color='blue', linewidth=1, marker='o',\n",
    "         transform=ccrs.Geodetic())\n",
    "plt.show() "
   ]
  },
  {
   "cell_type": "code",
   "execution_count": null,
   "metadata": {},
   "outputs": [],
   "source": [
    "TLEdata.compute('2018/12/24')\n",
    "print('%s %s' % (TLEdata.sublong*180/pi, TLEdata.sublat*180/pi))"
   ]
  },
  {
   "cell_type": "code",
   "execution_count": null,
   "metadata": {},
   "outputs": [],
   "source": [
    "ax=plt.axes(projection=ccrs.PlateCarree())\n",
    "ax.coastlines()\n",
    "ax.add_feature(cartopy.feature.LAND)\n",
    "plt.savefig('Test_worldmap.pdf')\n",
    "plt.savefig('Test_worldmap.png')\n",
    "plt.plot()\n",
    "plt.show() \n",
    "    "
   ]
  },
  {
   "cell_type": "code",
   "execution_count": null,
   "metadata": {
    "scrolled": true
   },
   "outputs": [],
   "source": [
    "data=longlatfunc()"
   ]
  },
  {
   "cell_type": "code",
   "execution_count": null,
   "metadata": {},
   "outputs": [],
   "source": [
    "data.TLElongitude"
   ]
  },
  {
   "cell_type": "code",
   "execution_count": null,
   "metadata": {},
   "outputs": [],
   "source": [
    "TLElatitude = []\n",
    "TLElongitude = []\n",
    "TLEtime = []\n",
    "starttime=ephem.Date((2018,20,12,0,0,0))\n",
    "for x in range(1,5760): \n",
    "    starttime=starttime+(ephem.minute)\n",
    "    TLEdata.compute(starttime)\n",
    "    TLElatitude.append(TLEdata.sublat*180/pi)\n",
    "    TLElongitude.append(TLEdata.sublong*180/pi)\n",
    "    TLEtime.append(x)"
   ]
  },
  {
   "cell_type": "code",
   "execution_count": null,
   "metadata": {},
   "outputs": [],
   "source": [
    "print('%s', starttime)"
   ]
  },
  {
   "cell_type": "code",
   "execution_count": null,
   "metadata": {},
   "outputs": [],
   "source": []
  }
 ],
 "metadata": {
  "kernelspec": {
   "display_name": "Python 3",
   "language": "python",
   "name": "python3"
  },
  "language_info": {
   "codemirror_mode": {
    "name": "ipython",
    "version": 3
   },
   "file_extension": ".py",
   "mimetype": "text/x-python",
   "name": "python",
   "nbconvert_exporter": "python",
   "pygments_lexer": "ipython3",
   "version": "3.6.4"
  }
 },
 "nbformat": 4,
 "nbformat_minor": 2
}
